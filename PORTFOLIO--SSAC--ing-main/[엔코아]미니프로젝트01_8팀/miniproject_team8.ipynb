{
 "cells": [
  {
   "cell_type": "code",
   "execution_count": 1,
   "id": "9a2eb5e0",
   "metadata": {},
   "outputs": [],
   "source": [
    "from selenium import webdriver"
   ]
  },
  {
   "cell_type": "code",
   "execution_count": 2,
   "id": "de324a9b",
   "metadata": {},
   "outputs": [],
   "source": [
    "url = 'https://www.naver.com'\n",
    "browser = webdriver.Chrome()\n",
    "browser.get(url)"
   ]
  },
  {
   "cell_type": "code",
   "execution_count": 5,
   "id": "5ca3a173",
   "metadata": {},
   "outputs": [],
   "source": [
    "search = browser.find_element_by_id('query')"
   ]
  },
  {
   "cell_type": "code",
   "execution_count": 6,
   "id": "23cf41ec",
   "metadata": {},
   "outputs": [],
   "source": [
    "search.clear()"
   ]
  },
  {
   "cell_type": "code",
   "execution_count": 7,
   "id": "94bea9f7",
   "metadata": {},
   "outputs": [],
   "source": [
    "search_text = '코로나 현황'\n",
    "search.send_keys(search_text)"
   ]
  },
  {
   "cell_type": "code",
   "execution_count": 8,
   "id": "cb16390e",
   "metadata": {},
   "outputs": [],
   "source": [
    "search.submit()"
   ]
  },
  {
   "cell_type": "code",
   "execution_count": 9,
   "id": "ad683bac",
   "metadata": {},
   "outputs": [],
   "source": [
    "from bs4 import BeautifulSoup"
   ]
  },
  {
   "cell_type": "code",
   "execution_count": 18,
   "id": "50b63069",
   "metadata": {},
   "outputs": [],
   "source": [
    "soup = BeautifulSoup(browser.page_source, 'html.parser')"
   ]
  },
  {
   "cell_type": "code",
   "execution_count": 23,
   "id": "d62825a4",
   "metadata": {},
   "outputs": [
    {
     "data": {
      "text/plain": [
       "'8-24'"
      ]
     },
     "execution_count": 23,
     "metadata": {},
     "output_type": "execute_result"
    }
   ],
   "source": [
    "date = soup.select('dd.date')[0].text.replace('.', '-')\n",
    "date"
   ]
  },
  {
   "cell_type": "code",
   "execution_count": 20,
   "id": "8ea6f7e2",
   "metadata": {},
   "outputs": [
    {
     "data": {
      "text/plain": [
       "2113"
      ]
     },
     "execution_count": 20,
     "metadata": {},
     "output_type": "execute_result"
    }
   ],
   "source": [
    "local = int(soup.select('dd._y_first_value')[0].text.replace(',', ''))\n",
    "local"
   ]
  },
  {
   "cell_type": "code",
   "execution_count": 21,
   "id": "b46d0f8d",
   "metadata": {},
   "outputs": [
    {
     "data": {
      "text/plain": [
       "41"
      ]
     },
     "execution_count": 21,
     "metadata": {},
     "output_type": "execute_result"
    }
   ],
   "source": [
    "oversea = int(soup.select('dd._y_second_value')[0].text.replace(',', ''))\n",
    "oversea"
   ]
  },
  {
   "cell_type": "code",
   "execution_count": 26,
   "id": "2c4eab74",
   "metadata": {},
   "outputs": [],
   "source": [
    "rows = []"
   ]
  },
  {
   "cell_type": "code",
   "execution_count": 30,
   "id": "50558e48",
   "metadata": {},
   "outputs": [
    {
     "data": {
      "text/plain": [
       "[['2021-8-25', 1829, 53],\n",
       " ['2021-8-24', 2113, 41],\n",
       " ['2021-8-23', 1468, 39],\n",
       " ['2021-8-22', 1369, 48]]"
      ]
     },
     "execution_count": 30,
     "metadata": {},
     "output_type": "execute_result"
    }
   ],
   "source": [
    "soup = BeautifulSoup(browser.page_source, 'html.parser')\n",
    "date = soup.select('dd.date')[0].text.replace('.', '-')\n",
    "local = int(soup.select('dd._y_first_value')[0].text.replace(',', ''))\n",
    "oversea = int(soup.select('dd._y_second_value')[0].text.replace(',', ''))\n",
    "rows.append(['2021-' + date, local, oversea])\n",
    "rows"
   ]
  },
  {
   "cell_type": "code",
   "execution_count": 32,
   "id": "243f49f7",
   "metadata": {},
   "outputs": [],
   "source": [
    "import pandas as pd"
   ]
  },
  {
   "cell_type": "code",
   "execution_count": 33,
   "id": "c1a2cf75",
   "metadata": {},
   "outputs": [
    {
     "data": {
      "text/html": [
       "<div>\n",
       "<style scoped>\n",
       "    .dataframe tbody tr th:only-of-type {\n",
       "        vertical-align: middle;\n",
       "    }\n",
       "\n",
       "    .dataframe tbody tr th {\n",
       "        vertical-align: top;\n",
       "    }\n",
       "\n",
       "    .dataframe thead th {\n",
       "        text-align: right;\n",
       "    }\n",
       "</style>\n",
       "<table border=\"1\" class=\"dataframe\">\n",
       "  <thead>\n",
       "    <tr style=\"text-align: right;\">\n",
       "      <th></th>\n",
       "      <th>일자</th>\n",
       "      <th>국내발생</th>\n",
       "      <th>해외유입</th>\n",
       "    </tr>\n",
       "  </thead>\n",
       "  <tbody>\n",
       "    <tr>\n",
       "      <th>0</th>\n",
       "      <td>2021-8-25</td>\n",
       "      <td>1829</td>\n",
       "      <td>53</td>\n",
       "    </tr>\n",
       "    <tr>\n",
       "      <th>1</th>\n",
       "      <td>2021-8-24</td>\n",
       "      <td>2113</td>\n",
       "      <td>41</td>\n",
       "    </tr>\n",
       "    <tr>\n",
       "      <th>2</th>\n",
       "      <td>2021-8-23</td>\n",
       "      <td>1468</td>\n",
       "      <td>39</td>\n",
       "    </tr>\n",
       "    <tr>\n",
       "      <th>3</th>\n",
       "      <td>2021-8-22</td>\n",
       "      <td>1369</td>\n",
       "      <td>48</td>\n",
       "    </tr>\n",
       "  </tbody>\n",
       "</table>\n",
       "</div>"
      ],
      "text/plain": [
       "          일자  국내발생  해외유입\n",
       "0  2021-8-25  1829    53\n",
       "1  2021-8-24  2113    41\n",
       "2  2021-8-23  1468    39\n",
       "3  2021-8-22  1369    48"
      ]
     },
     "execution_count": 33,
     "metadata": {},
     "output_type": "execute_result"
    }
   ],
   "source": [
    "pd.DataFrame(rows, columns=['일자', '국내발생', '해외유입'])"
   ]
  },
  {
   "cell_type": "code",
   "execution_count": 36,
   "id": "4a5b60e0",
   "metadata": {},
   "outputs": [],
   "source": [
    "columns = browser.find_elements_by_css_selector('div.column')"
   ]
  },
  {
   "cell_type": "code",
   "execution_count": 39,
   "id": "f2668203",
   "metadata": {},
   "outputs": [],
   "source": [
    "import time"
   ]
  },
  {
   "cell_type": "code",
   "execution_count": 41,
   "id": "c96daaa0",
   "metadata": {},
   "outputs": [],
   "source": [
    "rows = []\n",
    "\n",
    "for column in columns:\n",
    "    column.click()\n",
    "    time.sleep(1)\n",
    "\n",
    "    soup = BeautifulSoup(browser.page_source, 'html.parser')\n",
    "    \n",
    "    date = soup.select('dd.date')[0].text.replace('.', '-')\n",
    "    local = int(soup.select('dd._y_first_value')[0].text.replace(',', ''))\n",
    "    oversea = int(soup.select('dd._y_second_value')[0].text.replace(',', ''))\n",
    "    \n",
    "    rows.append(['2021-' + date, local, oversea])"
   ]
  },
  {
   "cell_type": "code",
   "execution_count": 42,
   "id": "c4e72322",
   "metadata": {},
   "outputs": [
    {
     "data": {
      "text/plain": [
       "[['2021-8-19', 1999, 51],\n",
       " ['2021-8-20', 1811, 66],\n",
       " ['2021-8-21', 1588, 38],\n",
       " ['2021-8-22', 1369, 48],\n",
       " ['2021-8-23', 1468, 39],\n",
       " ['2021-8-24', 2113, 41],\n",
       " ['2021-8-25', 1829, 53]]"
      ]
     },
     "execution_count": 42,
     "metadata": {},
     "output_type": "execute_result"
    }
   ],
   "source": [
    "rows"
   ]
  },
  {
   "cell_type": "code",
   "execution_count": 43,
   "id": "70bd6f5d",
   "metadata": {},
   "outputs": [],
   "source": [
    "df = pd.DataFrame(rows, columns=['일자', '국내발생', '해외유입'])"
   ]
  },
  {
   "cell_type": "code",
   "execution_count": 44,
   "id": "b2550901",
   "metadata": {},
   "outputs": [
    {
     "data": {
      "text/html": [
       "<div>\n",
       "<style scoped>\n",
       "    .dataframe tbody tr th:only-of-type {\n",
       "        vertical-align: middle;\n",
       "    }\n",
       "\n",
       "    .dataframe tbody tr th {\n",
       "        vertical-align: top;\n",
       "    }\n",
       "\n",
       "    .dataframe thead th {\n",
       "        text-align: right;\n",
       "    }\n",
       "</style>\n",
       "<table border=\"1\" class=\"dataframe\">\n",
       "  <thead>\n",
       "    <tr style=\"text-align: right;\">\n",
       "      <th></th>\n",
       "      <th>일자</th>\n",
       "      <th>국내발생</th>\n",
       "      <th>해외유입</th>\n",
       "    </tr>\n",
       "  </thead>\n",
       "  <tbody>\n",
       "    <tr>\n",
       "      <th>0</th>\n",
       "      <td>2021-8-19</td>\n",
       "      <td>1999</td>\n",
       "      <td>51</td>\n",
       "    </tr>\n",
       "    <tr>\n",
       "      <th>1</th>\n",
       "      <td>2021-8-20</td>\n",
       "      <td>1811</td>\n",
       "      <td>66</td>\n",
       "    </tr>\n",
       "    <tr>\n",
       "      <th>2</th>\n",
       "      <td>2021-8-21</td>\n",
       "      <td>1588</td>\n",
       "      <td>38</td>\n",
       "    </tr>\n",
       "    <tr>\n",
       "      <th>3</th>\n",
       "      <td>2021-8-22</td>\n",
       "      <td>1369</td>\n",
       "      <td>48</td>\n",
       "    </tr>\n",
       "    <tr>\n",
       "      <th>4</th>\n",
       "      <td>2021-8-23</td>\n",
       "      <td>1468</td>\n",
       "      <td>39</td>\n",
       "    </tr>\n",
       "    <tr>\n",
       "      <th>5</th>\n",
       "      <td>2021-8-24</td>\n",
       "      <td>2113</td>\n",
       "      <td>41</td>\n",
       "    </tr>\n",
       "    <tr>\n",
       "      <th>6</th>\n",
       "      <td>2021-8-25</td>\n",
       "      <td>1829</td>\n",
       "      <td>53</td>\n",
       "    </tr>\n",
       "  </tbody>\n",
       "</table>\n",
       "</div>"
      ],
      "text/plain": [
       "          일자  국내발생  해외유입\n",
       "0  2021-8-19  1999    51\n",
       "1  2021-8-20  1811    66\n",
       "2  2021-8-21  1588    38\n",
       "3  2021-8-22  1369    48\n",
       "4  2021-8-23  1468    39\n",
       "5  2021-8-24  2113    41\n",
       "6  2021-8-25  1829    53"
      ]
     },
     "execution_count": 44,
     "metadata": {},
     "output_type": "execute_result"
    }
   ],
   "source": [
    "df"
   ]
  },
  {
   "cell_type": "code",
   "execution_count": 45,
   "id": "55fe1a12",
   "metadata": {},
   "outputs": [
    {
     "data": {
      "text/plain": [
       "array([['2021-8-19', 1999, 51],\n",
       "       ['2021-8-20', 1811, 66],\n",
       "       ['2021-8-21', 1588, 38],\n",
       "       ['2021-8-22', 1369, 48],\n",
       "       ['2021-8-23', 1468, 39],\n",
       "       ['2021-8-24', 2113, 41],\n",
       "       ['2021-8-25', 1829, 53]], dtype=object)"
      ]
     },
     "execution_count": 45,
     "metadata": {},
     "output_type": "execute_result"
    }
   ],
   "source": [
    "df.values"
   ]
  },
  {
   "cell_type": "code",
   "execution_count": 48,
   "id": "60668302",
   "metadata": {},
   "outputs": [
    {
     "data": {
      "text/plain": [
       "array(['2021-8-19', 1999, 51], dtype=object)"
      ]
     },
     "execution_count": 48,
     "metadata": {},
     "output_type": "execute_result"
    }
   ],
   "source": [
    "row = df.values[0]\n",
    "row"
   ]
  },
  {
   "cell_type": "raw",
   "id": "a9713842",
   "metadata": {},
   "source": [
    "MySQL에 데이터베이스(이름은 알아서 지으셈)를 만들고\n",
    "corona라는 테이블을 만든 후에"
   ]
  },
  {
   "cell_type": "raw",
   "id": "7489d654",
   "metadata": {},
   "source": [
    "import pymysql"
   ]
  },
  {
   "cell_type": "raw",
   "id": "795d6770",
   "metadata": {},
   "source": [
    "pymysql을 이용하여 MySQL 데이터베이스에 대한 connection 생성\n",
    "connection으로부터 cursor 생성"
   ]
  },
  {
   "cell_type": "code",
   "execution_count": 54,
   "id": "b61790a0",
   "metadata": {},
   "outputs": [],
   "source": [
    "for row in df.values:\n",
    "    sql = \"INSERT INTO corona VALUES ('{}', {}, {})\".format(row[0], row[1], row[2])\n",
    "    # 또는\n",
    "    #sql = \"INSERT INTO corona VALUES ('{}', {}, {})\".format(*row)\n",
    "    # 또는\n",
    "    #sql = f\"INSERT INTO corona VALUES ('{row[0]}', {row[1]}, {row[2]})\"\n",
    "    커서.execute(sql)\n",
    "    \n",
    "커서.commit()\n",
    "커서.close()"
   ]
  }
 ],
 "metadata": {
  "kernelspec": {
   "display_name": "Python 3",
   "language": "python",
   "name": "python3"
  },
  "language_info": {
   "codemirror_mode": {
    "name": "ipython",
    "version": 3
   },
   "file_extension": ".py",
   "mimetype": "text/x-python",
   "name": "python",
   "nbconvert_exporter": "python",
   "pygments_lexer": "ipython3",
   "version": "3.8.8"
  }
 },
 "nbformat": 4,
 "nbformat_minor": 5
}
